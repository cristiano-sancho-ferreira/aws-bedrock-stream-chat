{
 "cells": [
  {
   "cell_type": "code",
   "execution_count": 20,
   "metadata": {},
   "outputs": [
    {
     "name": "stdout",
     "output_type": "stream",
     "text": [
      "Requirement already satisfied: boto3 in c:\\users\\cristianosancho\\anaconda3\\lib\\site-packages (1.34.139)\n",
      "Requirement already satisfied: botocore<1.35.0,>=1.34.139 in c:\\users\\cristianosancho\\anaconda3\\lib\\site-packages (from boto3) (1.34.139)\n",
      "Requirement already satisfied: jmespath<2.0.0,>=0.7.1 in c:\\users\\cristianosancho\\anaconda3\\lib\\site-packages (from boto3) (1.0.1)\n",
      "Requirement already satisfied: s3transfer<0.11.0,>=0.10.0 in c:\\users\\cristianosancho\\anaconda3\\lib\\site-packages (from boto3) (0.10.1)\n",
      "Requirement already satisfied: python-dateutil<3.0.0,>=2.1 in c:\\users\\cristianosancho\\anaconda3\\lib\\site-packages (from botocore<1.35.0,>=1.34.139->boto3) (2.8.2)\n",
      "Requirement already satisfied: urllib3!=2.2.0,<3,>=1.25.4 in c:\\users\\cristianosancho\\anaconda3\\lib\\site-packages (from botocore<1.35.0,>=1.34.139->boto3) (2.0.7)\n",
      "Requirement already satisfied: six>=1.5 in c:\\users\\cristianosancho\\anaconda3\\lib\\site-packages (from python-dateutil<3.0.0,>=2.1->botocore<1.35.0,>=1.34.139->boto3) (1.16.0)\n"
     ]
    }
   ],
   "source": [
    "!pip install boto3"
   ]
  },
  {
   "cell_type": "code",
   "execution_count": 10,
   "metadata": {},
   "outputs": [],
   "source": [
    "import boto3\n",
    "import json\n",
    "\n",
    "bedrock_client = boto3.client(service_name='bedrock-runtime', region_name='us-east-1')\n",
    "\n",
    "prompt = \"Apple\"\n",
    "\n",
    "body = json.dumps({\n",
    "        \"prompt\": f\"\\n\\nHuman: Fale sobre {prompt} \\n\\nAssistant:\",\n",
    "        \"max_tokens_to_sample\": 3000,\n",
    "        \"temperature\": 0.5,\n",
    "        \"top_p\": 0.7,\n",
    "    })\n",
    "\n",
    "modelId = 'anthropic.claude-v2'\n",
    "accept = '*/*'\n",
    "contentType = 'application/json'"
   ]
  },
  {
   "cell_type": "code",
   "execution_count": 11,
   "metadata": {},
   "outputs": [
    {
     "name": "stdout",
     "output_type": "stream",
     "text": [
      " Aqui estão alguns pontos importantes sobre a Apple:\n",
      "\n",
      "- A Apple Inc. é uma empresa americana de tecnologia sediada em Cupertino, Califórnia. É uma das maiores e mais valiosas empresas do mundo.\n",
      "\n",
      "- A Apple foi fundada em 1976 por Steve Jobs, Steve Wozniak e Ronald Wayne. Originalmente ela produzia e vendia computadores pessoais, mas hoje em dia é mais conhecida por produtos como o iPhone, iPad, Mac, Apple Watch e serviços como o iTunes, App Store e iCloud.\n",
      "\n",
      "- O atual CEO da Apple é Tim Cook, que assumiu após a morte de Steve Jobs em 2011. \n",
      "\n",
      "- A Apple é conhecida por seu design inovador, foco em experiência do usuário e ecossistema fechado de produtos que funcionam muito bem em conjunto. Seus produtos como o iPod, iPhone e iPad revolucionaram e definiram suas respectivas categorias.\n",
      "\n",
      "- A Apple é uma das marcas mais valiosas do mundo e tem uma base de fãs muito leal. Ela é vista como uma empresa que pensa \"fora da caixa\" e não tem medo de desafiar o status quo da indústria.\n",
      "\n",
      "- Alguns dos produtos e serviços atuais da Apple incluem iPhone, iPad, MacBook, Apple Watch, AirPods, Apple TV, Apple Music, iCloud, App Store e muito mais. A empresa está constantemente inovando em áreas como realidade aumentada, inteligência artificial, saúde, pagamentos e outras."
     ]
    }
   ],
   "source": [
    "response = bedrock_client.invoke_model_with_response_stream(body=body, modelId=modelId, accept=accept, contentType=contentType)\n",
    "\n",
    "stream = response.get('body')\n",
    "if stream:\n",
    "    for event in stream:\n",
    "        chunk = event.get('chunk')\n",
    "        if chunk:\n",
    "            print(json.loads(chunk.get('bytes')).get('completion'), end=\"\")\n"
   ]
  }
 ],
 "metadata": {
  "kernelspec": {
   "display_name": "Python 3",
   "language": "python",
   "name": "python3"
  },
  "language_info": {
   "codemirror_mode": {
    "name": "ipython",
    "version": 3
   },
   "file_extension": ".py",
   "mimetype": "text/x-python",
   "name": "python",
   "nbconvert_exporter": "python",
   "pygments_lexer": "ipython3",
   "version": "3.11.7"
  }
 },
 "nbformat": 4,
 "nbformat_minor": 2
}
