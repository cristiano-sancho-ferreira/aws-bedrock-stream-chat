{
 "cells": [
  {
   "cell_type": "code",
   "execution_count": 20,
   "metadata": {},
   "outputs": [
    {
     "name": "stdout",
     "output_type": "stream",
     "text": [
      "Requirement already satisfied: boto3 in c:\\users\\cristianosancho\\anaconda3\\lib\\site-packages (1.34.139)\n",
      "Requirement already satisfied: botocore<1.35.0,>=1.34.139 in c:\\users\\cristianosancho\\anaconda3\\lib\\site-packages (from boto3) (1.34.139)\n",
      "Requirement already satisfied: jmespath<2.0.0,>=0.7.1 in c:\\users\\cristianosancho\\anaconda3\\lib\\site-packages (from boto3) (1.0.1)\n",
      "Requirement already satisfied: s3transfer<0.11.0,>=0.10.0 in c:\\users\\cristianosancho\\anaconda3\\lib\\site-packages (from boto3) (0.10.1)\n",
      "Requirement already satisfied: python-dateutil<3.0.0,>=2.1 in c:\\users\\cristianosancho\\anaconda3\\lib\\site-packages (from botocore<1.35.0,>=1.34.139->boto3) (2.8.2)\n",
      "Requirement already satisfied: urllib3!=2.2.0,<3,>=1.25.4 in c:\\users\\cristianosancho\\anaconda3\\lib\\site-packages (from botocore<1.35.0,>=1.34.139->boto3) (2.0.7)\n",
      "Requirement already satisfied: six>=1.5 in c:\\users\\cristianosancho\\anaconda3\\lib\\site-packages (from python-dateutil<3.0.0,>=2.1->botocore<1.35.0,>=1.34.139->boto3) (1.16.0)\n"
     ]
    }
   ],
   "source": [
    "!pip install boto3"
   ]
  },
  {
   "cell_type": "code",
   "execution_count": 26,
   "metadata": {},
   "outputs": [],
   "source": [
    "import boto3\n",
    "import json"
   ]
  },
  {
   "cell_type": "code",
   "execution_count": 22,
   "metadata": {},
   "outputs": [],
   "source": [
    "bedrock_client = boto3.client(\n",
    "    service_name='bedrock-runtime', \n",
    "    region_name='us-east-1',\n",
    "    )"
   ]
  },
  {
   "cell_type": "code",
   "execution_count": 31,
   "metadata": {},
   "outputs": [],
   "source": [
    "prompt = \"pressão alta\""
   ]
  },
  {
   "cell_type": "code",
   "execution_count": 28,
   "metadata": {},
   "outputs": [],
   "source": [
    "body = json.dumps({\n",
    "        \"prompt\": f\"\\n\\nHuman: Fale sobre {prompt} \\n\\nAssistant:\",\n",
    "        \"max_tokens_to_sample\": 3000,\n",
    "        \"temperature\": 0.5,\n",
    "        \"top_p\": 0.7,\n",
    "    })\n",
    "\n",
    "modelId = 'anthropic.claude-v2'\n",
    "accept = 'application/json'\n",
    "contentType = 'application/json'"
   ]
  },
  {
   "cell_type": "code",
   "execution_count": 29,
   "metadata": {},
   "outputs": [
    {
     "data": {
      "text/plain": [
       "{'ResponseMetadata': {'RequestId': '0fd5b61a-16f8-420f-85bb-326d5535fdb8',\n",
       "  'HTTPStatusCode': 200,\n",
       "  'HTTPHeaders': {'date': 'Wed, 21 Aug 2024 18:27:25 GMT',\n",
       "   'content-type': 'application/json',\n",
       "   'content-length': '1482',\n",
       "   'connection': 'keep-alive',\n",
       "   'x-amzn-requestid': '0fd5b61a-16f8-420f-85bb-326d5535fdb8',\n",
       "   'x-amzn-bedrock-invocation-latency': '11348',\n",
       "   'x-amzn-bedrock-output-token-count': '408',\n",
       "   'x-amzn-bedrock-input-token-count': '26'},\n",
       "  'RetryAttempts': 0},\n",
       " 'contentType': 'application/json',\n",
       " 'body': <botocore.response.StreamingBody at 0x268eb371780>}"
      ]
     },
     "execution_count": 29,
     "metadata": {},
     "output_type": "execute_result"
    }
   ],
   "source": [
    "response = bedrock_client.invoke_model(body=body, modelId=modelId, accept=accept, contentType=contentType)\n",
    "response\n"
   ]
  },
  {
   "cell_type": "code",
   "execution_count": 32,
   "metadata": {},
   "outputs": [
    {
     "data": {
      "text/plain": [
       "{'type': 'completion',\n",
       " 'completion': ' Aqui estão algumas informações importantes sobre pressão alta (hipertensão):\\n\\n- A pressão alta ocorre quando a pressão sanguínea fica consistentemente alta, com a pressão sistólica (número superior) acima de 140 mmHg e a pressão diastólica (número inferior) acima de 90 mmHg.\\n\\n- A pressão alta geralmente não apresenta sintomas, por isso é chamada de \"assassino silencioso\". Porém, se não for tratada, pode levar a problemas graves de saúde como ataque cardíaco, acidente vascular cerebral, insuficiência renal e outros.\\n\\n- Os principais fatores de risco são idade avançada, histórico familiar, obesidade, sedentarismo, dieta rica em sódio, consumo excessivo de álcool, tabagismo e stress.\\n\\n- O tratamento envolve mudanças no estilo de vida como alimentação saudável, redução do sal e álcool, exercícios físicos regulares e controle do peso. Medicamentos também podem ser necessários para controlar a pressão.\\n\\n- É importante medir a pressão regularmente e consultar um médico para avaliação dos níveis pressóricos. O tratamento adequado e o controle da pressão alta reduzem o risco de complicações e melhoram a qualidade de vida.\\n\\n- Todos devem conhecer seus níveis pressóricos e adotar hábitos saudáveis para prevenir ou controlar a hipertensão. Um estilo de vida saudável é fundamental para uma boa saúde cardiovascular.',\n",
       " 'stop_reason': 'stop_sequence',\n",
       " 'stop': '\\n\\nHuman:'}"
      ]
     },
     "execution_count": 32,
     "metadata": {},
     "output_type": "execute_result"
    }
   ],
   "source": [
    "response_body = json.loads(response.get('body').read())\n",
    "response_body"
   ]
  },
  {
   "cell_type": "code",
   "execution_count": null,
   "metadata": {},
   "outputs": [],
   "source": []
  }
 ],
 "metadata": {
  "kernelspec": {
   "display_name": "Python 3",
   "language": "python",
   "name": "python3"
  },
  "language_info": {
   "codemirror_mode": {
    "name": "ipython",
    "version": 3
   },
   "file_extension": ".py",
   "mimetype": "text/x-python",
   "name": "python",
   "nbconvert_exporter": "python",
   "pygments_lexer": "ipython3",
   "version": "3.11.7"
  }
 },
 "nbformat": 4,
 "nbformat_minor": 2
}
